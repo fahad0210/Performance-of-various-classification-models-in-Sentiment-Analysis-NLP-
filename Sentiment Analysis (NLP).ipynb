{
  "nbformat": 4,
  "nbformat_minor": 0,
  "metadata": {
    "colab": {
      "name": "NLP.ipynb",
      "provenance": [],
      "collapsed_sections": []
    },
    "kernelspec": {
      "name": "python3",
      "display_name": "Python 3"
    }
  },
  "cells": [
    {
      "cell_type": "code",
      "metadata": {
        "id": "0F9ePAmVtWgd",
        "colab_type": "code",
        "colab": {}
      },
      "source": [
        "import numpy as np\n",
        "import matplotlib.pyplot as plt\n",
        "import pandas as pd"
      ],
      "execution_count": 593,
      "outputs": []
    },
    {
      "cell_type": "code",
      "metadata": {
        "id": "F6qq9S54vVqK",
        "colab_type": "code",
        "colab": {}
      },
      "source": [
        "dataset = pd.read_csv('IMDB_Review.tsv', delimiter = '\\t', quoting = 3)"
      ],
      "execution_count": 594,
      "outputs": []
    },
    {
      "cell_type": "markdown",
      "metadata": {
        "id": "M_N8ZLt3v7rK",
        "colab_type": "text"
      },
      "source": [
        "#Text cleaning"
      ]
    },
    {
      "cell_type": "code",
      "metadata": {
        "id": "6fYbPtWjv4WL",
        "colab_type": "code",
        "colab": {
          "base_uri": "https://localhost:8080/",
          "height": 51
        },
        "outputId": "9095aee9-2abc-4685-cc42-09c54089a08b"
      },
      "source": [
        "import nltk\n",
        "import re\n",
        "nltk.download('stopwords')\n",
        "from nltk.corpus import stopwords\n",
        "from nltk.stem.porter import PorterStemmer\n",
        "f = []\n",
        "for x in range (0,1000):\n",
        "  result = re.sub( '[^a-zA-Z]',  ' ',  dataset['Review'][x] )\n",
        "  result = result.lower()\n",
        "  result = result.split()\n",
        "  P = PorterStemmer()\n",
        "  z = stopwords.words('english')\n",
        "  z.remove('not')\n",
        "  result = [P.stem(y) for y in result if not y in set(z)]\n",
        "  result = ' '.join(result)\n",
        "  f.append(result)\n",
        "\n"
      ],
      "execution_count": 595,
      "outputs": [
        {
          "output_type": "stream",
          "text": [
            "[nltk_data] Downloading package stopwords to /root/nltk_data...\n",
            "[nltk_data]   Package stopwords is already up-to-date!\n"
          ],
          "name": "stdout"
        }
      ]
    },
    {
      "cell_type": "code",
      "metadata": {
        "id": "ff1d4WuemPxf",
        "colab_type": "code",
        "colab": {}
      },
      "source": [
        "from sklearn.feature_extraction.text import CountVectorizer\n",
        "C = CountVectorizer(max_features = 1200)\n",
        "X = C.fit_transform(f).toarray()\n",
        "Y = dataset.iloc[:, 1].values"
      ],
      "execution_count": 596,
      "outputs": []
    },
    {
      "cell_type": "markdown",
      "metadata": {
        "id": "0qfQrDnbNb2V",
        "colab_type": "text"
      },
      "source": [
        "#Splitting the dataset"
      ]
    },
    {
      "cell_type": "code",
      "metadata": {
        "id": "hSDU3AfzNT6j",
        "colab_type": "code",
        "colab": {}
      },
      "source": [
        "from sklearn.model_selection import train_test_split\n",
        "X_train, X_test, Y_train, Y_test = train_test_split(X, Y, test_size = 0.15, random_state = 0)"
      ],
      "execution_count": 597,
      "outputs": []
    },
    {
      "cell_type": "markdown",
      "metadata": {
        "id": "m2xrwdaYA-ia",
        "colab_type": "text"
      },
      "source": [
        "#Training the Logistic Regression model"
      ]
    },
    {
      "cell_type": "code",
      "metadata": {
        "id": "-x1H_zBcA9xG",
        "colab_type": "code",
        "colab": {
          "base_uri": "https://localhost:8080/",
          "height": 102
        },
        "outputId": "6c3db20f-d006-44bf-c630-65ccc3847a6f"
      },
      "source": [
        "from sklearn.linear_model import LogisticRegression\n",
        "LR = LogisticRegression(random_state = 0)\n",
        "LR.fit(X_train, Y_train)"
      ],
      "execution_count": 598,
      "outputs": [
        {
          "output_type": "execute_result",
          "data": {
            "text/plain": [
              "LogisticRegression(C=1.0, class_weight=None, dual=False, fit_intercept=True,\n",
              "                   intercept_scaling=1, l1_ratio=None, max_iter=100,\n",
              "                   multi_class='auto', n_jobs=None, penalty='l2',\n",
              "                   random_state=0, solver='lbfgs', tol=0.0001, verbose=0,\n",
              "                   warm_start=False)"
            ]
          },
          "metadata": {
            "tags": []
          },
          "execution_count": 598
        }
      ]
    },
    {
      "cell_type": "code",
      "metadata": {
        "id": "l6zE-jdOBHVt",
        "colab_type": "code",
        "colab": {
          "base_uri": "https://localhost:8080/",
          "height": 119
        },
        "outputId": "3ae3183c-6b88-4497-9fed-3b6da679d2f7"
      },
      "source": [
        "Y_P1 = LR.predict(X_test)\n",
        "print(Y_test)\n",
        "print(Y_P1)"
      ],
      "execution_count": 599,
      "outputs": [
        {
          "output_type": "stream",
          "text": [
            "[0 0 0 0 0 0 1 0 0 1 1 1 0 1 1 1 0 0 0 1 0 1 1 0 0 1 1 1 1 0 1 1 1 1 1 0 0\n",
            " 0 0 1 1 0 1 0 0 0 0 0 0 0 1 1 1 1 0 0 1 1 0 1 0 0 0 0 1 0 1 1 1 0 1 1 1 1\n",
            " 0 0 1 1 0 1 0 1 1 0 1 1 0 0 1 0]\n",
            "[0 0 0 0 0 0 1 0 0 1 1 1 1 1 1 1 0 0 0 1 0 0 1 1 1 1 1 1 1 0 1 1 1 0 1 0 0\n",
            " 0 0 1 1 1 1 0 0 0 1 1 1 0 1 1 1 1 0 0 0 0 0 1 1 0 0 1 0 0 1 0 1 0 1 1 1 0\n",
            " 0 0 0 1 0 1 0 1 1 0 1 1 1 0 1 1]\n"
          ],
          "name": "stdout"
        }
      ]
    },
    {
      "cell_type": "code",
      "metadata": {
        "id": "59KsPayHBH3V",
        "colab_type": "code",
        "colab": {}
      },
      "source": [
        "#print(np.concatenate((Y_P1.reshape(len(Y_P1),1), Y_test.reshape(len(Y_test),1)),1))"
      ],
      "execution_count": 600,
      "outputs": []
    },
    {
      "cell_type": "markdown",
      "metadata": {
        "id": "IlL-ifZ-BX-b",
        "colab_type": "text"
      },
      "source": [
        "Confusion Matrix & Accuracy Score"
      ]
    },
    {
      "cell_type": "code",
      "metadata": {
        "id": "ubj9-1fWBXRI",
        "colab_type": "code",
        "colab": {
          "base_uri": "https://localhost:8080/",
          "height": 85
        },
        "outputId": "a15343b2-f1bb-4729-d99a-3d5a0ffaa3a9"
      },
      "source": [
        "from sklearn.metrics import confusion_matrix, accuracy_score\n",
        "CM1 = confusion_matrix(Y_test, Y_P1)\n",
        "print(CM1, \"\\n\")\n",
        "accuracy_score(Y_test, Y_P1)"
      ],
      "execution_count": 601,
      "outputs": [
        {
          "output_type": "stream",
          "text": [
            "[[34 11]\n",
            " [ 8 37]] \n",
            "\n"
          ],
          "name": "stdout"
        },
        {
          "output_type": "execute_result",
          "data": {
            "text/plain": [
              "0.7888888888888889"
            ]
          },
          "metadata": {
            "tags": []
          },
          "execution_count": 601
        }
      ]
    },
    {
      "cell_type": "markdown",
      "metadata": {
        "id": "zuaGp7RuNxnx",
        "colab_type": "text"
      },
      "source": [
        "#Training the Naive Bayes model"
      ]
    },
    {
      "cell_type": "code",
      "metadata": {
        "id": "uZmWwJvGMqUF",
        "colab_type": "code",
        "colab": {
          "base_uri": "https://localhost:8080/",
          "height": 34
        },
        "outputId": "9ee866c9-ab59-421c-aa83-06ebdb02157e"
      },
      "source": [
        "from sklearn.naive_bayes import GaussianNB\n",
        "NB = GaussianNB()\n",
        "NB.fit(X_train, Y_train)"
      ],
      "execution_count": 602,
      "outputs": [
        {
          "output_type": "execute_result",
          "data": {
            "text/plain": [
              "GaussianNB(priors=None, var_smoothing=1e-09)"
            ]
          },
          "metadata": {
            "tags": []
          },
          "execution_count": 602
        }
      ]
    },
    {
      "cell_type": "code",
      "metadata": {
        "id": "QYrq275rN-V2",
        "colab_type": "code",
        "colab": {}
      },
      "source": [
        "Y_P2 = NB.predict(X_test)\n",
        "#print(np.concatenate((Y_P2.reshape(len(Y_P2),1), Y_test.reshape(len(Y_test),1)),1))"
      ],
      "execution_count": 603,
      "outputs": []
    },
    {
      "cell_type": "markdown",
      "metadata": {
        "id": "GVnJ0Su-likL",
        "colab_type": "text"
      },
      "source": [
        "Confusion Matrix & Accuracy Score"
      ]
    },
    {
      "cell_type": "code",
      "metadata": {
        "id": "Y2xpUBCvYGUF",
        "colab_type": "code",
        "colab": {
          "base_uri": "https://localhost:8080/",
          "height": 68
        },
        "outputId": "66292fdc-b375-4415-b3b4-2d2b645d128b"
      },
      "source": [
        "from sklearn.metrics import confusion_matrix, accuracy_score\n",
        "CM2 = confusion_matrix(Y_test, Y_P2)\n",
        "print(CM2)\n",
        "accuracy_score(Y_test, Y_P2)"
      ],
      "execution_count": 604,
      "outputs": [
        {
          "output_type": "stream",
          "text": [
            "[[24 21]\n",
            " [ 3 42]]\n"
          ],
          "name": "stdout"
        },
        {
          "output_type": "execute_result",
          "data": {
            "text/plain": [
              "0.7333333333333333"
            ]
          },
          "metadata": {
            "tags": []
          },
          "execution_count": 604
        }
      ]
    },
    {
      "cell_type": "markdown",
      "metadata": {
        "id": "OFkFkfSL8rBb",
        "colab_type": "text"
      },
      "source": [
        "#Training the SVM model"
      ]
    },
    {
      "cell_type": "code",
      "metadata": {
        "id": "ixH91ETz8pgL",
        "colab_type": "code",
        "colab": {
          "base_uri": "https://localhost:8080/",
          "height": 85
        },
        "outputId": "2f99d811-e4a0-41b6-b4b4-5e565db5f6e9"
      },
      "source": [
        "from sklearn.svm import SVC\n",
        "SV = SVC(kernel = 'linear', random_state = 0)\n",
        "SV.fit(X_train, Y_train)"
      ],
      "execution_count": 605,
      "outputs": [
        {
          "output_type": "execute_result",
          "data": {
            "text/plain": [
              "SVC(C=1.0, break_ties=False, cache_size=200, class_weight=None, coef0=0.0,\n",
              "    decision_function_shape='ovr', degree=3, gamma='scale', kernel='linear',\n",
              "    max_iter=-1, probability=False, random_state=0, shrinking=True, tol=0.001,\n",
              "    verbose=False)"
            ]
          },
          "metadata": {
            "tags": []
          },
          "execution_count": 605
        }
      ]
    },
    {
      "cell_type": "code",
      "metadata": {
        "id": "CYdU0rn58zfX",
        "colab_type": "code",
        "colab": {}
      },
      "source": [
        "Y_P3 = SV.predict(X_test)\n",
        "#print(np.concatenate((Y_P3.reshape(len(Y_P3),1), Y_test.reshape(len(Y_test),1)),1))"
      ],
      "execution_count": 606,
      "outputs": []
    },
    {
      "cell_type": "markdown",
      "metadata": {
        "id": "wAmAd4VA9JYw",
        "colab_type": "text"
      },
      "source": [
        "Confusion Matrix & Accuracy Score"
      ]
    },
    {
      "cell_type": "code",
      "metadata": {
        "id": "Xbxx5Kj380Ca",
        "colab_type": "code",
        "colab": {
          "base_uri": "https://localhost:8080/",
          "height": 85
        },
        "outputId": "2dbc3f89-cd4f-403b-f5b2-b811967851aa"
      },
      "source": [
        "from sklearn.metrics import confusion_matrix, accuracy_score\n",
        "CM3 = confusion_matrix(Y_test, Y_P3)\n",
        "print(CM3, \"\\n\")\n",
        "accuracy_score(Y_test, Y_P3)"
      ],
      "execution_count": 607,
      "outputs": [
        {
          "output_type": "stream",
          "text": [
            "[[36  9]\n",
            " [ 5 40]] \n",
            "\n"
          ],
          "name": "stdout"
        },
        {
          "output_type": "execute_result",
          "data": {
            "text/plain": [
              "0.8444444444444444"
            ]
          },
          "metadata": {
            "tags": []
          },
          "execution_count": 607
        }
      ]
    },
    {
      "cell_type": "markdown",
      "metadata": {
        "id": "ZGHBeKk79IxZ",
        "colab_type": "text"
      },
      "source": [
        "#Training the Random Forest Classification model"
      ]
    },
    {
      "cell_type": "code",
      "metadata": {
        "id": "_4Mq24ek9IJs",
        "colab_type": "code",
        "colab": {
          "base_uri": "https://localhost:8080/",
          "height": 153
        },
        "outputId": "38e5ad6c-d953-4362-942e-fa8237656aa4"
      },
      "source": [
        "from sklearn.ensemble import RandomForestClassifier\n",
        "RF = RandomForestClassifier(n_estimators = 10, criterion = 'entropy', random_state = 0)\n",
        "RF.fit(X_train, Y_train)"
      ],
      "execution_count": 608,
      "outputs": [
        {
          "output_type": "execute_result",
          "data": {
            "text/plain": [
              "RandomForestClassifier(bootstrap=True, ccp_alpha=0.0, class_weight=None,\n",
              "                       criterion='entropy', max_depth=None, max_features='auto',\n",
              "                       max_leaf_nodes=None, max_samples=None,\n",
              "                       min_impurity_decrease=0.0, min_impurity_split=None,\n",
              "                       min_samples_leaf=1, min_samples_split=2,\n",
              "                       min_weight_fraction_leaf=0.0, n_estimators=10,\n",
              "                       n_jobs=None, oob_score=False, random_state=0, verbose=0,\n",
              "                       warm_start=False)"
            ]
          },
          "metadata": {
            "tags": []
          },
          "execution_count": 608
        }
      ]
    },
    {
      "cell_type": "code",
      "metadata": {
        "id": "R5MVpWh09-Xj",
        "colab_type": "code",
        "colab": {}
      },
      "source": [
        "Y_P4 = RF.predict(X_test)\n",
        "#print(np.concatenate((Y_P4.reshape(len(Y_P4),1), Y_test.reshape(len(Y_test),1)),1))"
      ],
      "execution_count": 609,
      "outputs": []
    },
    {
      "cell_type": "markdown",
      "metadata": {
        "id": "HXwHloki_JIN",
        "colab_type": "text"
      },
      "source": [
        "Confusion Matrix & Accuracy Score"
      ]
    },
    {
      "cell_type": "code",
      "metadata": {
        "id": "AWjpnf3k-_xn",
        "colab_type": "code",
        "colab": {
          "base_uri": "https://localhost:8080/",
          "height": 68
        },
        "outputId": "31269167-1df0-4d23-d32d-078740c2fbaf"
      },
      "source": [
        "from sklearn.metrics import confusion_matrix, accuracy_score\n",
        "CM4 = confusion_matrix(Y_test, Y_P4)\n",
        "print(CM4)\n",
        "accuracy_score(Y_test, Y_P4)"
      ],
      "execution_count": 610,
      "outputs": [
        {
          "output_type": "stream",
          "text": [
            "[[38  7]\n",
            " [14 31]]\n"
          ],
          "name": "stdout"
        },
        {
          "output_type": "execute_result",
          "data": {
            "text/plain": [
              "0.7666666666666667"
            ]
          },
          "metadata": {
            "tags": []
          },
          "execution_count": 610
        }
      ]
    },
    {
      "cell_type": "markdown",
      "metadata": {
        "id": "NL7WkjYhIw6R",
        "colab_type": "text"
      },
      "source": [
        "Single Review Example"
      ]
    },
    {
      "cell_type": "code",
      "metadata": {
        "id": "f3KskooMI0tx",
        "colab_type": "code",
        "colab": {
          "base_uri": "https://localhost:8080/",
          "height": 34
        },
        "outputId": "5db5b683-c385-461d-dda1-88b9163604b4"
      },
      "source": [
        "new = 'This restaurant is okay but I did not like the food'\n",
        "new = re.sub('[^a-zA-Z]', ' ', new)\n",
        "new = new.lower()\n",
        "new = new.split()\n",
        "P = PorterStemmer()\n",
        "z = stopwords.words('english')\n",
        "z.remove('not')\n",
        "new = [P.stem(word) for word in new if not word in set(z)]\n",
        "new = ' '.join(new)\n",
        "f1 = [new]\n",
        "\n",
        "new_X = C.transform(f1).toarray()\n",
        "new_y_P = SV.predict(new_X)\n",
        "print(new_y_P)"
      ],
      "execution_count": 611,
      "outputs": [
        {
          "output_type": "stream",
          "text": [
            "[0]\n"
          ],
          "name": "stdout"
        }
      ]
    }
  ]
}